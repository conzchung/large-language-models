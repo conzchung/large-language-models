{
 "cells": [
  {
   "cell_type": "code",
   "execution_count": 1,
   "id": "5e72f934-703a-4029-ab59-8d3cc53a13bb",
   "metadata": {},
   "outputs": [],
   "source": [
    "from langchain import PromptTemplate, LLMChain\n",
    "# pip install gpt4all\n",
    "from langchain.llms import GPT4All\n",
    "from langchain.document_loaders import UnstructuredPDFLoader, OnlinePDFLoader, PyPDFLoader\n",
    "from langchain.text_splitter import RecursiveCharacterTextSplitter\n",
    "\n",
    "import pandas as pt"
   ]
  },
  {
   "cell_type": "code",
   "execution_count": 29,
   "id": "3623ec25-fdb3-4625-9f93-b5ed43ce4a2f",
   "metadata": {},
   "outputs": [],
   "source": [
    "PATH = 'C:/Users/constantinechung/AppData/Local/nomic.ai/GPT4All/'\n",
    "# Model = 'ggml-gpt4all-j-v1.3-groovy.bin'\n",
    "Model = 'ggml-stable-vicuna-13B.q4_2.bin'\n",
    "# Model = 'ggml-vicuna-13b-1.1-q4_2.bin'\n",
    "# Model = 'GPT4All-13B-snoozy.ggmlv3.q4_0.bin'\n",
    "# Model = 'nous-hermes-13b.ggmlv3.q4_0.bin'\n",
    "\n",
    "model_path = PATH + Model\n",
    "# model_path"
   ]
  },
  {
   "cell_type": "code",
   "execution_count": 30,
   "id": "93d818e8-a1f4-411c-a6db-84a4d4a73608",
   "metadata": {},
   "outputs": [
    {
     "name": "stdout",
     "output_type": "stream",
     "text": [
      "Found model file at  C:/Users/constantinechung/AppData/Local/nomic.ai/GPT4All/ggml-stable-vicuna-13B.q4_2.bin\n"
     ]
    }
   ],
   "source": [
    "llm = GPT4All(model=model_path, temp=0, verbose=False)"
   ]
  },
  {
   "cell_type": "code",
   "execution_count": 32,
   "id": "2a00c374-0149-4eb0-b6f5-4c9abfedbc85",
   "metadata": {},
   "outputs": [],
   "source": [
    "template = \"\"\"Question: {question}\n",
    "\n",
    "Answer: give out the answer step by step in a consice point form.\"\"\"\n",
    "\n",
    "prompt = PromptTemplate(template=template, input_variables=[\"question\"])"
   ]
  },
  {
   "cell_type": "code",
   "execution_count": 33,
   "id": "a50eddf1-be99-44da-9290-a920661a64ea",
   "metadata": {},
   "outputs": [],
   "source": [
    "llm_chain = LLMChain(prompt=prompt, llm=llm)"
   ]
  },
  {
   "cell_type": "code",
   "execution_count": 34,
   "id": "64631a21-646f-4bc7-ae6c-511e11021d54",
   "metadata": {},
   "outputs": [],
   "source": [
    "question = \"could you tell me how to make beef wellington?\""
   ]
  },
  {
   "cell_type": "code",
   "execution_count": null,
   "id": "fa506343-7388-4e68-a2c4-e1faab2ae546",
   "metadata": {},
   "outputs": [],
   "source": [
    "llm_chain.run(question)"
   ]
  },
  {
   "cell_type": "code",
   "execution_count": 36,
   "id": "50467484-57af-4222-81e7-381ec30d73b6",
   "metadata": {},
   "outputs": [],
   "source": [
    "prompt = \"\"\"\n",
    "Please provide a summary of the following text\n",
    "\n",
    "TEXT:\n",
    "Philosophy (from Greek: φιλοσοφία, philosophia, 'love of wisdom') \\\n",
    "is the systematized study of general and fundamental questions, \\\n",
    "such as those about existence, reason, knowledge, values, mind, and language. \\\n",
    "Some sources claim the term was coined by Pythagoras (c. 570 – c. 495 BCE), \\\n",
    "although this theory is disputed by some. Philosophical methods include questioning, \\\n",
    "critical discussion, rational argument, and systematic presentation.\n",
    "\"\"\""
   ]
  },
  {
   "cell_type": "code",
   "execution_count": 39,
   "id": "f9298a41-abdf-4dbd-9a37-ee8d7172d3d4",
   "metadata": {},
   "outputs": [
    {
     "name": "stdout",
     "output_type": "stream",
     "text": [
      "Our prompt has 121 tokens\n"
     ]
    }
   ],
   "source": [
    "num_tokens = llm.get_num_tokens(prompt)\n",
    "print (f\"Our prompt has {num_tokens} tokens\")"
   ]
  },
  {
   "cell_type": "code",
   "execution_count": 43,
   "id": "eb852c49-1181-418e-a9cf-a0a25a373218",
   "metadata": {},
   "outputs": [
    {
     "name": "stdout",
     "output_type": "stream",
     "text": [
      "Philosophy can also refer to a particular approach or field of study in which ideas are examined through the process described above. The term \"philosopher\" (in Greek: φιλόσοφος, philosophos) refers both to one who studies philosophy and seeks wisdom as well as someone with an encompassing intellectual curiosity about existence.[1]\n",
      "Philosophy is a systematic study of fundamental questions that explore the nature of reality, knowledge, values, mind, language, reason, and human experience. It involves critical thinking, rational argumentation, questioning, and presentations based on these methods to address complex issues in different fields or approaches within philosophy itself. The term \"philosopher\" refers both to someone who seeks wisdom through the study of philosophy as well as an intellectual curiosity about existence.\n",
      "Philosophy can also refer to a particular approach or field of study in which ideas are examined through the process described above. The term \"philosopher\" (in Greek: φιλόσοφος, philosophos) refers both to one who studies philosophy and seeks wisdom as well as someone with an encompassing intellectual curiosity about existence.[1]\n",
      "Philosophy is a systematic study of fundamental questions that explore the nature of reality, knowledge, values, mind, language, reason, and human experience. It involves critical thinking, rational argumentation, questioning, and presentations based on these methods to address complex issues in different fields or approaches within philosophy itself. The term \"philosopher\" refers both to someone who seeks wisdom through the study of philosophy as well as an intellectual curiosity about existence.\n"
     ]
    }
   ],
   "source": [
    "output = llm(prompt)\n",
    "# print(output)"
   ]
  },
  {
   "cell_type": "code",
   "execution_count": null,
   "id": "d19629bf-7d4e-4deb-adb9-1b397a6dc2ab",
   "metadata": {},
   "outputs": [],
   "source": []
  },
  {
   "cell_type": "code",
   "execution_count": null,
   "id": "a3ad6a37-e413-4308-be2b-b335d6abedcb",
   "metadata": {},
   "outputs": [],
   "source": []
  },
  {
   "cell_type": "code",
   "execution_count": 47,
   "id": "bf803813-be97-4ed7-bca4-616c491c8ed4",
   "metadata": {},
   "outputs": [],
   "source": [
    "# loader = OnlinePDFLoader('https://arxiv.org/pdf/1912.12180.pdf')\n",
    "loader = PyPDFLoader('C:/Users/constantinechung/Downloads/ProofsArgsAndZK.pdf')"
   ]
  },
  {
   "cell_type": "code",
   "execution_count": 48,
   "id": "4c99cf1c-4fac-4149-a5e2-d0dac3ecf16d",
   "metadata": {},
   "outputs": [],
   "source": [
    "data = loader.load()"
   ]
  },
  {
   "cell_type": "code",
   "execution_count": 56,
   "id": "0ad41fb7-2cc7-41a8-b4cf-52845356f816",
   "metadata": {},
   "outputs": [
    {
     "name": "stdout",
     "output_type": "stream",
     "text": [
      "You have 329 document(s) in your data\n",
      "There are 375 characters in your document\n"
     ]
    }
   ],
   "source": [
    "print (f'You have {len(data)} document(s) in your data')\n",
    "print (f'There are {len(data[0].page_content)} characters in your document')"
   ]
  },
  {
   "cell_type": "code",
   "execution_count": 66,
   "id": "331e3265-6266-4178-94e4-0b7847b94e18",
   "metadata": {},
   "outputs": [],
   "source": [
    "text = \"\"\n",
    "\n",
    "for page in data:\n",
    "    text += page.page_content\n",
    "    \n",
    "text = text.replace('\\t', ' ')"
   ]
  },
  {
   "cell_type": "code",
   "execution_count": 67,
   "id": "b335610f-1fa8-4960-982c-94b040e8558f",
   "metadata": {},
   "outputs": [
    {
     "name": "stderr",
     "output_type": "stream",
     "text": [
      "Token indices sequence length is longer than the specified maximum sequence length for this model (318079 > 1024). Running this sequence through the model will result in indexing errors\n"
     ]
    },
    {
     "name": "stdout",
     "output_type": "stream",
     "text": [
      "This book has 318079 tokens in it\n"
     ]
    }
   ],
   "source": [
    "num_tokens = llm.get_num_tokens(text)\n",
    "\n",
    "print (f\"This book has {num_tokens} tokens in it\")"
   ]
  },
  {
   "cell_type": "code",
   "execution_count": 68,
   "id": "7896db1a-f2f1-49e3-bbad-54ded09e1241",
   "metadata": {},
   "outputs": [
    {
     "ename": "AttributeError",
     "evalue": "'str' object has no attribute 'page_content'",
     "output_type": "error",
     "traceback": [
      "\u001b[1;31m---------------------------------------------------------------------------\u001b[0m",
      "\u001b[1;31mAttributeError\u001b[0m                            Traceback (most recent call last)",
      "Cell \u001b[1;32mIn[68], line 2\u001b[0m\n\u001b[0;32m      1\u001b[0m text_splitter \u001b[38;5;241m=\u001b[39m RecursiveCharacterTextSplitter(chunk_size\u001b[38;5;241m=\u001b[39m\u001b[38;5;241m1024\u001b[39m, chunk_overlap\u001b[38;5;241m=\u001b[39m\u001b[38;5;241m100\u001b[39m)\n\u001b[1;32m----> 2\u001b[0m texts \u001b[38;5;241m=\u001b[39m \u001b[43mtext_splitter\u001b[49m\u001b[38;5;241;43m.\u001b[39;49m\u001b[43msplit_documents\u001b[49m\u001b[43m(\u001b[49m\u001b[43mtext\u001b[49m\u001b[43m)\u001b[49m\n",
      "File \u001b[1;32m~\\Anaconda3\\envs\\env2023\\lib\\site-packages\\langchain\\text_splitter.py:102\u001b[0m, in \u001b[0;36mTextSplitter.split_documents\u001b[1;34m(self, documents)\u001b[0m\n\u001b[0;32m    100\u001b[0m texts, metadatas \u001b[38;5;241m=\u001b[39m [], []\n\u001b[0;32m    101\u001b[0m \u001b[38;5;28;01mfor\u001b[39;00m doc \u001b[38;5;129;01min\u001b[39;00m documents:\n\u001b[1;32m--> 102\u001b[0m     texts\u001b[38;5;241m.\u001b[39mappend(\u001b[43mdoc\u001b[49m\u001b[38;5;241;43m.\u001b[39;49m\u001b[43mpage_content\u001b[49m)\n\u001b[0;32m    103\u001b[0m     metadatas\u001b[38;5;241m.\u001b[39mappend(doc\u001b[38;5;241m.\u001b[39mmetadata)\n\u001b[0;32m    104\u001b[0m \u001b[38;5;28;01mreturn\u001b[39;00m \u001b[38;5;28mself\u001b[39m\u001b[38;5;241m.\u001b[39mcreate_documents(texts, metadatas\u001b[38;5;241m=\u001b[39mmetadatas)\n",
      "\u001b[1;31mAttributeError\u001b[0m: 'str' object has no attribute 'page_content'"
     ]
    }
   ],
   "source": [
    "text_splitter = RecursiveCharacterTextSplitter(chunk_size=1024, chunk_overlap=100)\n",
    "texts = text_splitter.split_documents(text)"
   ]
  },
  {
   "cell_type": "code",
   "execution_count": 80,
   "id": "65bb7175-8d3c-4c74-879f-f87e45e1d151",
   "metadata": {},
   "outputs": [],
   "source": [
    "text_splitter = RecursiveCharacterTextSplitter(separators=[\"\\n\\n\", \"\\n\", \"\\t\"], chunk_size=500, chunk_overlap=50)\n",
    "docs = text_splitter.create_documents([text])"
   ]
  },
  {
   "cell_type": "code",
   "execution_count": 81,
   "id": "16722191-d2e2-406d-9d9b-25180f4ed9ff",
   "metadata": {},
   "outputs": [
    {
     "name": "stdout",
     "output_type": "stream",
     "text": [
      "Now you have 2481 documents\n"
     ]
    }
   ],
   "source": [
    "print (f'Now you have {len(docs)} documents')"
   ]
  },
  {
   "cell_type": "code",
   "execution_count": 82,
   "id": "41d7f692-e5c4-44be-a981-432623e97462",
   "metadata": {},
   "outputs": [],
   "source": [
    "from langchain.vectorstores import Chroma\n",
    "from langchain.embeddings import HuggingFaceEmbeddings\n",
    "\n",
    "embeddings = HuggingFaceEmbeddings(model_name=\"all-MiniLM-L6-v2\")"
   ]
  },
  {
   "cell_type": "code",
   "execution_count": 83,
   "id": "c234014b-5ab6-4eb1-a3d7-c6bf28bfd863",
   "metadata": {},
   "outputs": [],
   "source": [
    "docsearch = Chroma.from_texts([t.page_content for t in docs], embeddings)"
   ]
  },
  {
   "cell_type": "code",
   "execution_count": 84,
   "id": "a7a075ca-0184-4775-8d45-478ea55bb594",
   "metadata": {},
   "outputs": [],
   "source": [
    "query = \"can you explain zero knowledge proof to me\"\n",
    "docs = docsearch.similarity_search(query, k=10)"
   ]
  },
  {
   "cell_type": "code",
   "execution_count": 85,
   "id": "2cbd8e5d-c211-48ee-bf3c-e07310b7f13e",
   "metadata": {},
   "outputs": [
    {
     "name": "stdout",
     "output_type": "stream",
     "text": [
      "10\n"
     ]
    },
    {
     "data": {
      "text/plain": [
       "'101The interested reader is directed to [Gol07, Section 4.7] for a detailed discussion of how to formalize knowledge-soundness.\\n102The reader may initially suspect that any proof of knowledge cannot be zero-knowledge: if it is possible to “pull a witness\\nwout of the prover’s head”, doesn’t this mean that the proof system reveals the witness to the verifier, grossly violating zero-'"
      ]
     },
     "execution_count": 85,
     "metadata": {},
     "output_type": "execute_result"
    }
   ],
   "source": [
    "print(len(docs))\n",
    "\n",
    "docs[3].page_content"
   ]
  },
  {
   "cell_type": "code",
   "execution_count": 86,
   "id": "8fc741f2-a5fa-4b3c-acca-96a4078db3bd",
   "metadata": {},
   "outputs": [],
   "source": [
    "from langchain.chains.question_answering import load_qa_chain"
   ]
  },
  {
   "cell_type": "code",
   "execution_count": 87,
   "id": "6229a4ed-7c57-4454-ad49-9ade35255670",
   "metadata": {},
   "outputs": [],
   "source": [
    "chain = load_qa_chain(llm, chain_type=\"stuff\")"
   ]
  },
  {
   "cell_type": "code",
   "execution_count": 88,
   "id": "0d701d79-9325-412b-b63a-1d1dc649e303",
   "metadata": {
    "tags": []
   },
   "outputs": [
    {
     "name": "stdout",
     "output_type": "stream",
     "text": [
      " Sure! A zero-knowledge proof is a mathematical proof that allows one party (the prover) to demonstrate to another party (the verifier) that a given statement is true, without revealing any information beyond the validity of the statement itself. This means that the verifier should learn nothing from the prover other than the validity of the statement being proven. Zero-knowledge proofs are used in cryptography to provide security and privacy, and have applications in areas such as authentication, digital signatures, and anonymous cryptocurrencies.\n",
      "\n"
     ]
    },
    {
     "data": {
      "text/plain": [
       "' Sure! A zero-knowledge proof is a mathematical proof that allows one party (the prover) to demonstrate to another party (the verifier) that a given statement is true, without revealing any information beyond the validity of the statement itself. This means that the verifier should learn nothing from the prover other than the validity of the statement being proven. Zero-knowledge proofs are used in cryptography to provide security and privacy, and have applications in areas such as authentication, digital signatures, and anonymous cryptocurrencies.\\n'"
      ]
     },
     "execution_count": 88,
     "metadata": {},
     "output_type": "execute_result"
    }
   ],
   "source": [
    "chain.run(input_documents=docs, question=query)"
   ]
  },
  {
   "cell_type": "code",
   "execution_count": null,
   "id": "e3aeb30a-5d82-439d-9bae-b64effab7dd3",
   "metadata": {},
   "outputs": [],
   "source": []
  },
  {
   "cell_type": "code",
   "execution_count": 44,
   "id": "04c1d3c9-3f93-400d-84ac-12102a69a9b8",
   "metadata": {},
   "outputs": [],
   "source": [
    "from langchain.chains import RetrievalQA"
   ]
  },
  {
   "cell_type": "code",
   "execution_count": 45,
   "id": "8bdc8744-158a-4998-9a50-f84a0bd96c70",
   "metadata": {},
   "outputs": [],
   "source": [
    "qa = RetrievalQA.from_chain_type(llm=llm, chain_type=\"stuff\", retriever=docsearch.as_retriever())"
   ]
  },
  {
   "cell_type": "code",
   "execution_count": null,
   "id": "caf4d25f-112c-43a9-9f5b-62048b02aed3",
   "metadata": {},
   "outputs": [],
   "source": [
    "result = qa.run(query)"
   ]
  },
  {
   "cell_type": "code",
   "execution_count": null,
   "id": "5b8fc60d-fd79-42ab-ab51-4b6860cf0a3e",
   "metadata": {},
   "outputs": [],
   "source": [
    "import re\n",
    "\n",
    "re.split('\\n|\\n\\n', result)"
   ]
  },
  {
   "cell_type": "code",
   "execution_count": 89,
   "id": "4ff4b007-c5f5-40ab-97d9-c101d3304c7a",
   "metadata": {},
   "outputs": [],
   "source": [
    "from langchain.chains.summarize import load_summarize_chain\n",
    "\n",
    "summary_chain = load_summarize_chain(llm=llm, chain_type='map_reduce',\n",
    "                                     verbose=False # Set verbose=True if you want to see the prompts being used\n",
    "                                    )"
   ]
  },
  {
   "cell_type": "code",
   "execution_count": 90,
   "id": "b7f768e7-1b5b-47fa-a437-e974a0acb8a7",
   "metadata": {},
   "outputs": [
    {
     "name": "stdout",
     "output_type": "stream",
     "text": [
      "\n",
      "\n",
      "\n",
      "Write a concise summary of the following:\n",
      "\n",
      "\n",
      "\"that the proof reveals nothing beyond its own validity. This is exactly what the zero-knowledge property\n",
      "guarantees.\n",
      "A particular goal of this survey is to describe a variety of approaches to constructing so-called zero-\n",
      "knowledge Succinct Non-interactive Arguments of Knowledge, or zk-SNARKs for short. “Succinct” means\n",
      "that the proofs are short. “Non-interactive” means that the proof is static, consisting of a single message\"\n",
      "\n",
      "\n",
      "\n",
      "\n",
      "\n",
      "\n",
      "\n",
      "\n",
      "\n",
      "\n",
      "\n",
      "\n",
      "\n",
      "Write a concise summary of the following:\n",
      "\n",
      "\n",
      "\"10.5 Ligero and Brakedown Polynomial Commitments . . . . . . . . . . . . . . . . . . . . . . . . 162\n",
      "10.6 Unifying IPs, MIPs, and IOPs via Polynomial IOPs . . . . . . . . . . . . . . . . . . . . . . . 167\n",
      "11 Zero-Knowledge Proofs and Arguments 170\n",
      "11.1 What is Zero-Knowledge? . . . . . . . . . . . . . . . . . . . . . . . . . . . . . . . . . . 170\n",
      "11.2 The Limits of Statistical Zero Knowledge Proofs . . . . . . . . . . . . . . . . . . . . . . . 174\"\n",
      "\n",
      "\n",
      "\n",
      "\n",
      "\n",
      "\n",
      "\n"
     ]
    }
   ],
   "source": [
    "output = summary_chain.run(docs)"
   ]
  },
  {
   "cell_type": "code",
   "execution_count": 19,
   "id": "886b500b-4243-474f-b465-1aaaf01a1fb6",
   "metadata": {},
   "outputs": [],
   "source": [
    "map_prompt = \"\"\"\n",
    "Write a concise summary of the following:\n",
    "\"{text}\"\n",
    "CONCISE SUMMARY:\n",
    "\"\"\"\n",
    "map_prompt_template = PromptTemplate(template=map_prompt, input_variables=[\"text\"])"
   ]
  },
  {
   "cell_type": "code",
   "execution_count": 20,
   "id": "1d648274-cfad-4ab2-a86f-d712bc7f32a5",
   "metadata": {},
   "outputs": [],
   "source": [
    "combine_prompt = \"\"\"\n",
    "Write a concise summary of the following text delimited by triple backquotes.\n",
    "Return your response in bullet points which covers the key points of the text.\n",
    "```{text}```\n",
    "BULLET POINT SUMMARY:\n",
    "\"\"\"\n",
    "combine_prompt_template = PromptTemplate(template=combine_prompt, input_variables=[\"text\"])"
   ]
  },
  {
   "cell_type": "code",
   "execution_count": 21,
   "id": "989c86dd-27ed-4844-91ec-7e02df5d3aee",
   "metadata": {},
   "outputs": [],
   "source": [
    "summary_chain = load_summarize_chain(llm=llm,\n",
    "                                     chain_type='stuff',\n",
    "                                     map_prompt=map_prompt_template,\n",
    "                                     combine_prompt=combine_prompt_template,\n",
    "                                     # verbose=True\n",
    "                                    )"
   ]
  },
  {
   "cell_type": "code",
   "execution_count": null,
   "id": "d95f58c7-4c50-48a0-afc1-b563818a8cf9",
   "metadata": {},
   "outputs": [],
   "source": [
    "output = summary_chain.run(docs)"
   ]
  },
  {
   "cell_type": "code",
   "execution_count": null,
   "id": "e2b82c93-a5bf-43f5-925f-3c340dd81818",
   "metadata": {},
   "outputs": [],
   "source": []
  }
 ],
 "metadata": {
  "kernelspec": {
   "display_name": "env2023",
   "language": "python",
   "name": "env2023"
  },
  "language_info": {
   "codemirror_mode": {
    "name": "ipython",
    "version": 3
   },
   "file_extension": ".py",
   "mimetype": "text/x-python",
   "name": "python",
   "nbconvert_exporter": "python",
   "pygments_lexer": "ipython3",
   "version": "3.8.15"
  }
 },
 "nbformat": 4,
 "nbformat_minor": 5
}
